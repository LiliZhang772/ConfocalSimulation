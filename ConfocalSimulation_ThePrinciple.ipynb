{
 "cells": [
  {
   "cell_type": "markdown",
   "metadata": {},
   "source": [
    "# The principle behind the confocal image simulation"
   ]
  },
  {
   "cell_type": "markdown",
   "metadata": {},
   "source": [
    "This notebook contains a running example of the basic principle behind the confocal simulation.\n",
    "\n",
    "First the necessary packages need to be loaded."
   ]
  },
  {
   "cell_type": "markdown",
   "metadata": {},
   "source": [
    "### Importing Packages"
   ]
  },
  {
   "cell_type": "code",
   "execution_count": 1,
   "metadata": {},
   "outputs": [],
   "source": [
    "import numpy as np\n",
    "import matplotlib.pyplot as plt"
   ]
  },
  {
   "cell_type": "markdown",
   "metadata": {},
   "source": [
    "### Image properties"
   ]
  },
  {
   "cell_type": "code",
   "execution_count": 2,
   "metadata": {},
   "outputs": [],
   "source": [
    "image_size = 15 # px (The image will be square 100 x 100)\n",
    "pixel_size = 0.1 # um\n",
    "dwell_time = 0.001 # s\n",
    "psf_width = 0.3 # um (Width of the point spread function in focus)\n",
    "diff_const = 1.# um^2/s (diffusion coefficient of mobile particles)"
   ]
  },
  {
   "cell_type": "markdown",
   "metadata": {},
   "source": [
    "### Creating an image array"
   ]
  },
  {
   "cell_type": "code",
   "execution_count": 3,
   "metadata": {},
   "outputs": [
    {
     "name": "stdout",
     "output_type": "stream",
     "text": [
      "(15, 15)\n",
      "[[0. 0. 0. 0. 0. 0. 0. 0. 0. 0. 0. 0. 0. 0. 0.]\n",
      " [0. 0. 0. 0. 0. 0. 0. 0. 0. 0. 0. 0. 0. 0. 0.]\n",
      " [0. 0. 0. 0. 0. 0. 0. 0. 0. 0. 0. 0. 0. 0. 0.]\n",
      " [0. 0. 0. 0. 0. 0. 0. 0. 0. 0. 0. 0. 0. 0. 0.]\n",
      " [0. 0. 0. 0. 0. 0. 0. 0. 0. 0. 0. 0. 0. 0. 0.]\n",
      " [0. 0. 0. 0. 0. 0. 0. 0. 0. 0. 0. 0. 0. 0. 0.]\n",
      " [0. 0. 0. 0. 0. 0. 0. 0. 0. 0. 0. 0. 0. 0. 0.]\n",
      " [0. 0. 0. 0. 0. 0. 0. 0. 0. 0. 0. 0. 0. 0. 0.]\n",
      " [0. 0. 0. 0. 0. 0. 0. 0. 0. 0. 0. 0. 0. 0. 0.]\n",
      " [0. 0. 0. 0. 0. 0. 0. 0. 0. 0. 0. 0. 0. 0. 0.]\n",
      " [0. 0. 0. 0. 0. 0. 0. 0. 0. 0. 0. 0. 0. 0. 0.]\n",
      " [0. 0. 0. 0. 0. 0. 0. 0. 0. 0. 0. 0. 0. 0. 0.]\n",
      " [0. 0. 0. 0. 0. 0. 0. 0. 0. 0. 0. 0. 0. 0. 0.]\n",
      " [0. 0. 0. 0. 0. 0. 0. 0. 0. 0. 0. 0. 0. 0. 0.]\n",
      " [0. 0. 0. 0. 0. 0. 0. 0. 0. 0. 0. 0. 0. 0. 0.]]\n"
     ]
    }
   ],
   "source": [
    "image_array = np.zeros((image_size,image_size))\n",
    "print(image_array.shape)\n",
    "print(image_array)"
   ]
  },
  {
   "cell_type": "markdown",
   "metadata": {},
   "source": [
    "## Generating an example image with one stationary particle"
   ]
  },
  {
   "cell_type": "markdown",
   "metadata": {},
   "source": [
    "### Starting positions inside the frame\n",
    "\n",
    "With np.random.rand() we can generate an array of random values between [0,1). To get a value within the frame, the interval has to be expanded to \n",
    "\n",
    "    [0,1) * image_size * pixel_size \n",
    "    \n",
    "to get the position in um."
   ]
  },
  {
   "cell_type": "code",
   "execution_count": 4,
   "metadata": {},
   "outputs": [],
   "source": [
    "#help(np.random.rand)"
   ]
  },
  {
   "cell_type": "code",
   "execution_count": 5,
   "metadata": {},
   "outputs": [
    {
     "data": {
      "text/plain": [
       "0.7157374915180973"
      ]
     },
     "execution_count": 5,
     "metadata": {},
     "output_type": "execute_result"
    }
   ],
   "source": [
    "np.random.rand()"
   ]
  },
  {
   "cell_type": "code",
   "execution_count": 6,
   "metadata": {},
   "outputs": [
    {
     "name": "stdout",
     "output_type": "stream",
     "text": [
      "[[0.36544627 1.33435171]]\n"
     ]
    }
   ],
   "source": [
    "N = 1\n",
    "start_pos = np.random.rand(N,2) * image_size * pixel_size\n",
    "print(start_pos)"
   ]
  },
  {
   "cell_type": "markdown",
   "metadata": {},
   "source": [
    "### Calculating the pixel intensity"
   ]
  },
  {
   "cell_type": "markdown",
   "metadata": {},
   "source": [
    "The pixel intensity is dependent on the distance from the optical axis."
   ]
  },
  {
   "cell_type": "code",
   "execution_count": 7,
   "metadata": {},
   "outputs": [
    {
     "data": {
      "text/plain": [
       "1.9140454747312425"
      ]
     },
     "execution_count": 7,
     "metadata": {},
     "output_type": "execute_result"
    }
   ],
   "source": [
    "beam_pos = np.array([0, 0])\n",
    "((start_pos - beam_pos)**2).sum()"
   ]
  },
  {
   "cell_type": "code",
   "execution_count": 8,
   "metadata": {},
   "outputs": [
    {
     "data": {
      "text/plain": [
       "3.369528703431171e-19"
      ]
     },
     "execution_count": 8,
     "metadata": {},
     "output_type": "execute_result"
    }
   ],
   "source": [
    "np.exp(- 2* ((start_pos - beam_pos)**2).sum()/ psf_width**2)"
   ]
  },
  {
   "cell_type": "code",
   "execution_count": 9,
   "metadata": {},
   "outputs": [
    {
     "name": "stdout",
     "output_type": "stream",
     "text": [
      "[[  0   0   0   0   0   0   0   0   0   0   4  15  34  50  46]\n",
      " [  0   0   0   0   0   0   0   0   0   3  17  61 139 203 189]\n",
      " [  0   0   0   0   0   0   0   0   0   8  45 160 364 530 494]\n",
      " [  0   0   0   0   0   0   0   0   1  13  75 268 608 885 826]\n",
      " [  0   0   0   0   0   0   0   0   1  14  81 287 652 948 884]\n",
      " [  0   0   0   0   0   0   0   0   1  10  55 197 447 651 607]\n",
      " [  0   0   0   0   0   0   0   0   0   4  24  86 197 286 267]\n",
      " [  0   0   0   0   0   0   0   0   0   1   6  24  55  80  75]\n",
      " [  0   0   0   0   0   0   0   0   0   0   1   4  10  14  13]\n",
      " [  0   0   0   0   0   0   0   0   0   0   0   0   1   1   1]\n",
      " [  0   0   0   0   0   0   0   0   0   0   0   0   0   0   0]\n",
      " [  0   0   0   0   0   0   0   0   0   0   0   0   0   0   0]\n",
      " [  0   0   0   0   0   0   0   0   0   0   0   0   0   0   0]\n",
      " [  0   0   0   0   0   0   0   0   0   0   0   0   0   0   0]\n",
      " [  0   0   0   0   0   0   0   0   0   0   0   0   0   0   0]]\n"
     ]
    }
   ],
   "source": [
    "for i in range(image_array.shape[0]):\n",
    "    for j in range(image_array.shape[1]):\n",
    "        beam_pos = np.array([j,i]) * pixel_size\n",
    "        image_array[j,i] = np.exp(- 2* ((start_pos - beam_pos)**2).sum()/ psf_width**2)\n",
    "print(np.array(image_array*1000,dtype=np.int))\n",
    "image_array_stationary = np.array(image_array)"
   ]
  },
  {
   "cell_type": "markdown",
   "metadata": {},
   "source": [
    "### Display the particle on an image"
   ]
  },
  {
   "cell_type": "code",
   "execution_count": 10,
   "metadata": {},
   "outputs": [
    {
     "data": {
      "text/plain": [
       "<matplotlib.image.AxesImage at 0x7fb3ccfe70d0>"
      ]
     },
     "execution_count": 10,
     "metadata": {},
     "output_type": "execute_result"
    },
    {
     "data": {
      "image/png": "[encoded data removed]",
      "text/plain": [
       "<Figure size 432x288 with 1 Axes>"
      ]
     },
     "metadata": {
      "needs_background": "light"
     },
     "output_type": "display_data"
    }
   ],
   "source": [
    "plt.imshow(image_array_stationary)"
   ]
  },
  {
   "cell_type": "code",
   "execution_count": null,
   "metadata": {},
   "outputs": [],
   "source": []
  },
  {
   "cell_type": "markdown",
   "metadata": {},
   "source": [
    "## Generating an example image with one mobile particle"
   ]
  },
  {
   "cell_type": "code",
   "execution_count": 11,
   "metadata": {},
   "outputs": [],
   "source": [
    "#help(np.random.normal)"
   ]
  },
  {
   "cell_type": "code",
   "execution_count": 21,
   "metadata": {},
   "outputs": [
    {
     "data": {
      "text/plain": [
       "(1.5, 0)"
      ]
     },
     "execution_count": 21,
     "metadata": {},
     "output_type": "execute_result"
    },
    {
     "data": {
      "image/png": "[encoded data removed]",
      "text/plain": [
       "<Figure size 432x288 with 1 Axes>"
      ]
     },
     "metadata": {
      "needs_background": "light"
     },
     "output_type": "display_data"
    }
   ],
   "source": [
    "track = np.random.normal(loc=0,scale=np.sqrt(2*diff_const*dwell_time),size=(image_size*image_size,2)).cumsum(axis=0)\n",
    "\n",
    "track += np.random.rand(2) * pixel_size * image_size\n",
    "\n",
    "plt.plot(track[:,0],track[:,1])\n",
    "plt.plot(track[0,0],track[0,1],'go',ms=10)\n",
    "plt.plot(track[-1,0],track[-1,1],'ro',ms=10)\n",
    "plt.xlim([0,pixel_size*image_size])\n",
    "plt.ylim([pixel_size*image_size,0])"
   ]
  },
  {
   "cell_type": "code",
   "execution_count": 22,
   "metadata": {},
   "outputs": [
    {
     "name": "stdout",
     "output_type": "stream",
     "text": [
      "[[  0   0   0   0   0   0   0   0   0   0   0   0   0   0   0]\n",
      " [  0   0   0   0   0   0   0   0   0   0   0   0   0   0   0]\n",
      " [  0   0   0   1   2   2   0   0   0   0   0   0   0   0   0]\n",
      " [ 13  22  11   7   6   1   0   0   0   0   0   0   0   0   0]\n",
      " [  1   3  23  31  46  13   3   2   0   0   0   0   0   0   0]\n",
      " [  0   0   0   0   0   0   0   0   0   0   0   0   0   0   0]\n",
      " [  0   0   0   0   0   0   0   0   0   0   0   0   0   0   0]\n",
      " [  0   0   0   0   0   0   0   0   0   0   0   0   0   0   0]\n",
      " [  0   0   0   0   1   2   5  15   3   0   0   2   0   0   0]\n",
      " [  0   0   0   0   0   3  35 103 120 111  60  23   1   0   0]\n",
      " [  0   0   1   5  45 363 684 907 868 579 276  62   6   0   0]\n",
      " [  0   0   1  17 101 290 539 351 157  19  12   0   0   0   0]\n",
      " [  0   0   0   0   5  17  49  26  28  10   1   0   0   0   0]\n",
      " [  0   0   0   0   0   0   0   0   1   1   0   0   0   0   0]\n",
      " [  0   0   0   0   0   0   0   0   0   0   0   0   0   0   0]]\n"
     ]
    }
   ],
   "source": [
    "for i in range(image_array.shape[0]):\n",
    "    for j in range(image_array.shape[1]):\n",
    "        beam_pos = np.array([j,i]) * pixel_size\n",
    "        image_array[i,j] = np.exp(- 2* ((track[j+i*image_array.shape[1]] - beam_pos)**2).sum()/ psf_width**2)\n",
    "print(np.array(image_array*1000,dtype=np.int))\n",
    "image_array_mobile = np.array(image_array)"
   ]
  },
  {
   "cell_type": "code",
   "execution_count": 23,
   "metadata": {},
   "outputs": [
    {
     "data": {
      "text/plain": [
       "<matplotlib.image.AxesImage at 0x7fb3cbdb6d50>"
      ]
     },
     "execution_count": 23,
     "metadata": {},
     "output_type": "execute_result"
    },
    {
     "data": {
      "image/png": "[encoded data removed]",
      "text/plain": [
       "<Figure size 432x288 with 1 Axes>"
      ]
     },
     "metadata": {
      "needs_background": "light"
     },
     "output_type": "display_data"
    }
   ],
   "source": [
    "plt.imshow(image_array)"
   ]
  },
  {
   "cell_type": "markdown",
   "metadata": {},
   "source": [
    "## Adding Poisson noise to the image"
   ]
  },
  {
   "cell_type": "code",
   "execution_count": 25,
   "metadata": {},
   "outputs": [
    {
     "data": {
      "text/plain": [
       "<matplotlib.image.AxesImage at 0x7fb3cbc49490>"
      ]
     },
     "execution_count": 25,
     "metadata": {},
     "output_type": "execute_result"
    },
    {
     "data": {
      "image/png": "[encoded data removed]",
      "text/plain": [
       "<Figure size 864x504 with 2 Axes>"
      ]
     },
     "metadata": {
      "needs_background": "light"
     },
     "output_type": "display_data"
    }
   ],
   "source": [
    "image_array_intensity = image_array_stationary * 70\n",
    "image_array_intensity += 1.2\n",
    "noisy = np.random.poisson(image_array_intensity)\n",
    "plt.figure(figsize=(12,7))\n",
    "plt.subplot(121)\n",
    "plt.imshow(image_array_stationary)\n",
    "plt.subplot(122)\n",
    "plt.imshow(noisy)"
   ]
  },
  {
   "cell_type": "code",
   "execution_count": 24,
   "metadata": {},
   "outputs": [
    {
     "data": {
      "text/plain": [
       "<matplotlib.image.AxesImage at 0x7fb3cbd5fd90>"
      ]
     },
     "execution_count": 24,
     "metadata": {},
     "output_type": "execute_result"
    },
    {
     "data": {
      "image/png": "[encoded data removed]",
      "text/plain": [
       "<Figure size 864x504 with 2 Axes>"
      ]
     },
     "metadata": {
      "needs_background": "light"
     },
     "output_type": "display_data"
    }
   ],
   "source": [
    "plt.figure(figsize=(12,7))\n",
    "plt.subplot(121)\n",
    "plt.imshow(image_array_mobile)\n",
    "plt.subplot(122)\n",
    "plt.imshow(np.random.poisson(image_array_mobile * 70 + 1.2))"
   ]
  }
 ],
 "metadata": {
  "kernelspec": {
   "display_name": "Python 3",
   "language": "python",
   "name": "python3"
  },
  "language_info": {
   "codemirror_mode": {
    "name": "ipython",
    "version": 3
   },
   "file_extension": ".py",
   "mimetype": "text/x-python",
   "name": "python",
   "nbconvert_exporter": "python",
   "pygments_lexer": "ipython3",
   "version": "3.7.4"
  }
 },
 "nbformat": 4,
 "nbformat_minor": 2
}
